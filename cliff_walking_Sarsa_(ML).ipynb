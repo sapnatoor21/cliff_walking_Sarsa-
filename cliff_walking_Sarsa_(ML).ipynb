{
  "cells": [
    {
      "cell_type": "code",
      "execution_count": 1,
      "metadata": {
        "colab": {
          "base_uri": "https://localhost:8080/"
        },
        "id": "QFXH77h-SZBt",
        "outputId": "4d10565a-040b-4905-dd8b-cb994d8b401c"
      },
      "outputs": [
        {
          "output_type": "stream",
          "name": "stdout",
          "text": [
            "Collecting gymnasium\n",
            "  Downloading gymnasium-0.29.1-py3-none-any.whl.metadata (10 kB)\n",
            "Requirement already satisfied: numpy>=1.21.0 in /usr/local/lib/python3.10/dist-packages (from gymnasium) (1.26.4)\n",
            "Requirement already satisfied: cloudpickle>=1.2.0 in /usr/local/lib/python3.10/dist-packages (from gymnasium) (2.2.1)\n",
            "Requirement already satisfied: typing-extensions>=4.3.0 in /usr/local/lib/python3.10/dist-packages (from gymnasium) (4.12.2)\n",
            "Collecting farama-notifications>=0.0.1 (from gymnasium)\n",
            "  Downloading Farama_Notifications-0.0.4-py3-none-any.whl.metadata (558 bytes)\n",
            "Downloading gymnasium-0.29.1-py3-none-any.whl (953 kB)\n",
            "\u001b[2K   \u001b[90m━━━━━━━━━━━━━━━━━━━━━━━━━━━━━━━━━━━━━━━━\u001b[0m \u001b[32m953.9/953.9 kB\u001b[0m \u001b[31m16.8 MB/s\u001b[0m eta \u001b[36m0:00:00\u001b[0m\n",
            "\u001b[?25hDownloading Farama_Notifications-0.0.4-py3-none-any.whl (2.5 kB)\n",
            "Installing collected packages: farama-notifications, gymnasium\n",
            "Successfully installed farama-notifications-0.0.4 gymnasium-0.29.1\n"
          ]
        }
      ],
      "source": [
        "!pip install gymnasium"
      ]
    },
    {
      "cell_type": "code",
      "execution_count": 2,
      "metadata": {
        "id": "BOUHRuDVStc-"
      },
      "outputs": [],
      "source": [
        "import numpy as np #scientific calculation or to deal with arrays\n",
        "import gymnasium as gym #provides you with the environment"
      ]
    },
    {
      "cell_type": "code",
      "execution_count": 3,
      "metadata": {
        "colab": {
          "base_uri": "https://localhost:8080/"
        },
        "id": "BgU-MuA9eAsb",
        "outputId": "f65f45b2-00d7-48e7-f09c-a451ee212863"
      },
      "outputs": [
        {
          "output_type": "stream",
          "name": "stderr",
          "text": [
            "/usr/local/lib/python3.10/dist-packages/gymnasium/envs/registration.py:521: UserWarning: \u001b[33mWARN: Using the latest versioned environment `CliffWalking-v0` instead of the unversioned environment `CliffWalking`.\u001b[0m\n",
            "  logger.warn(\n"
          ]
        }
      ],
      "source": [
        "env=gym.make(\"CliffWalking\")"
      ]
    },
    {
      "cell_type": "code",
      "execution_count": 4,
      "metadata": {
        "id": "szh8mfVdWhTU"
      },
      "outputs": [],
      "source": [
        "env=gym.make(\"CliffWalking\",render_mode='rgb_array')#rgb_array for recording video\n",
        "n_observation = env.observation_space.n\n",
        "n_action = env.action_space.n"
      ]
    },
    {
      "cell_type": "code",
      "execution_count": 5,
      "metadata": {
        "colab": {
          "base_uri": "https://localhost:8080/"
        },
        "id": "vejDb2YAWiMQ",
        "outputId": "a4cf0f25-6ed0-4bfc-b134-4bc6e98415ba"
      },
      "outputs": [
        {
          "output_type": "stream",
          "name": "stdout",
          "text": [
            "number of states 48\n",
            "number of possible actions 4\n"
          ]
        }
      ],
      "source": [
        "print('number of states',n_observation)\n",
        "print('number of possible actions',n_action)"
      ]
    },
    {
      "cell_type": "code",
      "execution_count": 6,
      "metadata": {
        "colab": {
          "base_uri": "https://localhost:8080/"
        },
        "id": "GbTIaS_FYbKS",
        "outputId": "8f2e1a01-79de-4858-80bd-9c0df1ae150b"
      },
      "outputs": [
        {
          "output_type": "stream",
          "name": "stdout",
          "text": [
            "[[0. 0. 0. 0.]\n",
            " [0. 0. 0. 0.]\n",
            " [0. 0. 0. 0.]\n",
            " [0. 0. 0. 0.]\n",
            " [0. 0. 0. 0.]\n",
            " [0. 0. 0. 0.]\n",
            " [0. 0. 0. 0.]\n",
            " [0. 0. 0. 0.]\n",
            " [0. 0. 0. 0.]\n",
            " [0. 0. 0. 0.]\n",
            " [0. 0. 0. 0.]\n",
            " [0. 0. 0. 0.]\n",
            " [0. 0. 0. 0.]\n",
            " [0. 0. 0. 0.]\n",
            " [0. 0. 0. 0.]\n",
            " [0. 0. 0. 0.]\n",
            " [0. 0. 0. 0.]\n",
            " [0. 0. 0. 0.]\n",
            " [0. 0. 0. 0.]\n",
            " [0. 0. 0. 0.]\n",
            " [0. 0. 0. 0.]\n",
            " [0. 0. 0. 0.]\n",
            " [0. 0. 0. 0.]\n",
            " [0. 0. 0. 0.]\n",
            " [0. 0. 0. 0.]\n",
            " [0. 0. 0. 0.]\n",
            " [0. 0. 0. 0.]\n",
            " [0. 0. 0. 0.]\n",
            " [0. 0. 0. 0.]\n",
            " [0. 0. 0. 0.]\n",
            " [0. 0. 0. 0.]\n",
            " [0. 0. 0. 0.]\n",
            " [0. 0. 0. 0.]\n",
            " [0. 0. 0. 0.]\n",
            " [0. 0. 0. 0.]\n",
            " [0. 0. 0. 0.]\n",
            " [0. 0. 0. 0.]\n",
            " [0. 0. 0. 0.]\n",
            " [0. 0. 0. 0.]\n",
            " [0. 0. 0. 0.]\n",
            " [0. 0. 0. 0.]\n",
            " [0. 0. 0. 0.]\n",
            " [0. 0. 0. 0.]\n",
            " [0. 0. 0. 0.]\n",
            " [0. 0. 0. 0.]\n",
            " [0. 0. 0. 0.]\n",
            " [0. 0. 0. 0.]\n",
            " [0. 0. 0. 0.]]\n"
          ]
        }
      ],
      "source": [
        "#Initialize the Q-table to 0\n",
        "Q_table = np.zeros((n_observation,n_action))\n",
        "print(Q_table)"
      ]
    },
    {
      "cell_type": "code",
      "execution_count": 7,
      "metadata": {
        "colab": {
          "base_uri": "https://localhost:8080/"
        },
        "id": "dgxV5bM1YbZd",
        "outputId": "2bc874b7-28e6-42a5-a3a2-a270adf6328b"
      },
      "outputs": [
        {
          "output_type": "execute_result",
          "data": {
            "text/plain": [
              "(48, 4)"
            ]
          },
          "metadata": {},
          "execution_count": 7
        }
      ],
      "source": [
        "Q_table.shape #48 states with 4 actions each"
      ]
    },
    {
      "cell_type": "code",
      "execution_count": 8,
      "metadata": {
        "id": "513dAEYVYbit"
      },
      "outputs": [],
      "source": [
        "#number of episode we will run\n",
        "n_episodes = 10000\n",
        "\n",
        "#maximum of iteration per episode- Or number of steps per episode\n",
        "steps_allowed = 500\n",
        "\n",
        "#initialize the exploration probability to 1\n",
        "epsilon = 1\n",
        "\n",
        "#exploartion decreasing decay for exponential decreasing\n",
        "decay_rate = 0.001\n",
        "\n",
        "# minimum of exploration proba\n",
        "min_epsilon = 0.01\n",
        "\n",
        "#max exploration rate\n",
        "max_epsilon=1\n",
        "\n",
        "#discounted factor- Return G(t)- continuos task\n",
        "gamma = 0.97\n",
        "\n",
        "#learning rate - Alpha - Update Q values- storing new info as well as preserving the old one\n",
        "lr = 0.1"
      ]
    },
    {
      "cell_type": "code",
      "execution_count": 9,
      "metadata": {
        "id": "9j0l9BP9ZQcU"
      },
      "outputs": [],
      "source": [
        "#Storing rewards after each episode in a list\n",
        "rewards_per_episode = list()"
      ]
    },
    {
      "cell_type": "markdown",
      "metadata": {
        "id": "qzxUkii9ZgZ2"
      },
      "source": [
        "\n",
        "\n",
        "**Training**\n"
      ]
    },
    {
      "cell_type": "code",
      "execution_count": 10,
      "metadata": {
        "id": "G8jp6i6-ZQk6"
      },
      "outputs": [],
      "source": [
        "#Greedy Policy\n",
        "def choose_action(state):\n",
        "    action=0\n",
        "    if np.random.uniform(0, 1) < epsilon:\n",
        "        action = env.action_space.sample()\n",
        "    else:\n",
        "        action = np.argmax(Q_table[state, :])\n",
        "    return action"
      ]
    },
    {
      "cell_type": "code",
      "execution_count": 11,
      "metadata": {
        "id": "zl66fY-0ZQyH"
      },
      "outputs": [],
      "source": [
        "#we iterate over episodes\n",
        "for e in range(n_episodes): #Entering in the episode\n",
        "  #we initialize the first state of the episode\n",
        "  state = env.reset()[0]\n",
        "  done = False\n",
        "  action1=choose_action(state)\n",
        "  #sum the rewards that the agent gets from the environment\n",
        "  total_reward = 0\n",
        "\n",
        "  for i in range(steps_allowed): #individual steps taken within an episode\n",
        "    # epsilon greedy strategy\n",
        "    # we initiate a random number between 0 and 1\n",
        "    # if the random_number is less than the exploration proba(epsilon)\n",
        "    #     the agent explores\n",
        "    # else\n",
        "    #     he exploits his knowledge\n",
        "\n",
        "\n",
        "\n",
        "    # The environment runs the chosen action and returns\n",
        "    # the next state, a reward and true if the episode is ended.\n",
        "    next_state, reward, done, truncated , info = env.step(action1)\n",
        "    action2=choose_action(next_state)\n",
        "\n",
        "    # We update our Q-table using the Q-learning iteration\n",
        "    Q_table[state, action1] = (1-lr) * Q_table[state, action1]+ lr*(reward + gamma*(Q_table[next_state,action2]))\n",
        "    total_reward = total_reward + reward\n",
        "\n",
        "    state = next_state\n",
        "    action1=action2\n",
        "    # If the episode is finished, we leave the for loop\n",
        "    if done:\n",
        "        break\n",
        "\n",
        "  #We update the exploration proba using exponential decay formula\n",
        "  epsilon = min_epsilon + (max_epsilon - min_epsilon) * np.exp(-decay_rate*e)\n",
        "  rewards_per_episode.append(total_reward)"
      ]
    },
    {
      "cell_type": "code",
      "execution_count": 12,
      "metadata": {
        "colab": {
          "base_uri": "https://localhost:8080/"
        },
        "id": "YTotacSUaKFS",
        "outputId": "56e5cbd6-0505-4888-f097-f090ce276c72"
      },
      "outputs": [
        {
          "output_type": "execute_result",
          "data": {
            "text/plain": [
              "10000"
            ]
          },
          "metadata": {},
          "execution_count": 12
        }
      ],
      "source": [
        "len(rewards_per_episode)"
      ]
    },
    {
      "cell_type": "code",
      "execution_count": 13,
      "metadata": {
        "id": "m77RvRhhaKIy"
      },
      "outputs": [],
      "source": [
        "rewards_per_thousand_episodes=np.split(np.array(rewards_per_episode),50)"
      ]
    },
    {
      "cell_type": "code",
      "source": [
        "count=1000\n",
        "print('-----Average reward per thousand episodes-------')\n",
        "for r in rewards_per_thousand_episodes:\n",
        "  print(count,':' ,str(sum(r/1000)))\n",
        "  count+=1000"
      ],
      "metadata": {
        "colab": {
          "base_uri": "https://localhost:8080/"
        },
        "id": "W20XmCydw0nz",
        "outputId": "2baa3ae0-cbae-4ecb-87cf-b6cf9e38d70c"
      },
      "execution_count": 14,
      "outputs": [
        {
          "output_type": "stream",
          "name": "stdout",
          "text": [
            "-----Average reward per thousand episodes-------\n",
            "1000 : -601.9190000000001\n",
            "2000 : -206.47799999999992\n",
            "3000 : -166.32599999999974\n",
            "4000 : -129.8969999999999\n",
            "5000 : -110.65299999999998\n",
            "6000 : -108.41499999999996\n",
            "7000 : -103.86099999999999\n",
            "8000 : -102.17800000000003\n",
            "9000 : -102.57400000000003\n",
            "10000 : -100.594\n",
            "11000 : -101.08899999999998\n",
            "12000 : -100.594\n",
            "13000 : -100.99\n",
            "14000 : -100.693\n",
            "15000 : -100.69300000000001\n",
            "16000 : -100.49499999999999\n",
            "17000 : -100.099\n",
            "18000 : -100.396\n",
            "19000 : -100.198\n",
            "20000 : -100.19800000000001\n",
            "21000 : -100.0\n",
            "22000 : -100.09899999999999\n",
            "23000 : -100.099\n",
            "24000 : -100.0\n",
            "25000 : -100.19800000000001\n",
            "26000 : -100.09899999999999\n",
            "27000 : -100.297\n",
            "28000 : -100.0\n",
            "29000 : -100.19800000000001\n",
            "30000 : -100.099\n",
            "31000 : -100.0\n",
            "32000 : -100.0\n",
            "33000 : -100.099\n",
            "34000 : -100.099\n",
            "35000 : -100.099\n",
            "36000 : -100.0\n",
            "37000 : -100.0\n",
            "38000 : -100.099\n",
            "39000 : -100.0\n",
            "40000 : -100.099\n",
            "41000 : -100.099\n",
            "42000 : -100.0\n",
            "43000 : -100.0\n",
            "44000 : -100.09899999999999\n",
            "45000 : -100.099\n",
            "46000 : -100.0\n",
            "47000 : -100.0\n",
            "48000 : -100.0\n",
            "49000 : -100.0\n",
            "50000 : -100.0\n"
          ]
        }
      ]
    },
    {
      "cell_type": "code",
      "execution_count": 15,
      "metadata": {
        "colab": {
          "base_uri": "https://localhost:8080/"
        },
        "id": "b9TXUWtwaPNA",
        "outputId": "51fcf068-5b6d-4bcc-e690-151734142c47"
      },
      "outputs": [
        {
          "output_type": "stream",
          "name": "stdout",
          "text": [
            "-----------Updated Q Table-----------\n",
            "[[ -33.33333363  -33.33334526  -33.33333711  -33.33333576]\n",
            " [ -33.33362947  -33.33507053  -33.33990256  -33.3333384 ]\n",
            " [ -33.36967205  -33.47526355  -33.78348721  -33.33337734]\n",
            " [ -35.66328948  -38.73349657  -35.4382335   -33.36696824]\n",
            " [ -50.48432788  -66.52415424  -62.95020199  -35.33538778]\n",
            " [ -81.29344069  -77.96016557  -95.28860543  -48.63693664]\n",
            " [ -89.52411558  -71.66130054 -107.7030087   -86.84331704]\n",
            " [ -80.19145252  -63.32717532  -97.64056634  -87.06596008]\n",
            " [ -73.38706513  -57.32646943  -76.77599538  -79.22091399]\n",
            " [ -60.6366295   -49.59075403  -72.08245195  -72.82759779]\n",
            " [ -52.96271139  -47.48211829  -54.1971056   -59.60143519]\n",
            " [ -49.05500397  -48.95243816  -46.38892589  -50.78285017]\n",
            " [ -33.3333351   -33.33349545  -33.34376397  -33.33394714]\n",
            " [ -33.33337436  -34.53541081  -33.50631164  -33.37062038]\n",
            " [ -33.38340193  -42.2602479   -52.56489745  -34.07828308]\n",
            " [ -34.155365    -57.83962677  -69.0061508   -37.61712625]\n",
            " [ -42.35436034  -84.14788725  -79.88194801  -51.25027828]\n",
            " [ -62.0412209  -104.9161973  -136.82993305  -88.01136038]\n",
            " [ -85.2503489  -120.06861697 -152.92779705 -116.51492968]\n",
            " [ -86.03165125  -86.65834643 -171.94499751 -107.33323574]\n",
            " [ -69.06889071  -73.25013129 -143.94906956 -100.66959433]\n",
            " [ -60.34862602  -52.36695678 -126.98734233  -82.38392772]\n",
            " [ -55.32011384  -43.46913982 -110.62319209  -69.97042814]\n",
            " [ -48.69515419  -46.78330966  -37.05862488  -59.86537031]\n",
            " [ -33.33333816  -33.50911312  -34.5320195   -33.36172327]\n",
            " [ -33.33543793  -38.79979334 -143.64942828  -34.56935546]\n",
            " [ -33.87786998  -68.26337848 -158.50013416  -45.82874346]\n",
            " [ -41.37141417  -96.17118273 -172.21064617  -64.5918804 ]\n",
            " [ -59.9100706  -160.26852352 -209.68505878 -100.46468843]\n",
            " [-100.84566604 -174.51925769 -242.35302368 -166.25330932]\n",
            " [-107.90016376 -176.06185907 -297.12010561 -179.51715725]\n",
            " [-111.06689823 -152.31521205 -259.27297417 -172.78997648]\n",
            " [ -90.32408106 -127.99017205 -300.77166635 -166.44677426]\n",
            " [ -81.6315081   -70.37557925 -290.0757935  -157.48481058]\n",
            " [ -62.66862703  -43.98811304 -272.92222102 -103.10618137]\n",
            " [ -46.43901683  -25.61156589   -1.         -102.17196203]\n",
            " [ -33.3392824  -133.24313885  -34.12727293  -34.51889203]\n",
            " [   0.            0.            0.            0.        ]\n",
            " [   0.            0.            0.            0.        ]\n",
            " [   0.            0.            0.            0.        ]\n",
            " [   0.            0.            0.            0.        ]\n",
            " [   0.            0.            0.            0.        ]\n",
            " [   0.            0.            0.            0.        ]\n",
            " [   0.            0.            0.            0.        ]\n",
            " [   0.            0.            0.            0.        ]\n",
            " [   0.            0.            0.            0.        ]\n",
            " [   0.            0.            0.            0.        ]\n",
            " [   0.            0.            0.            0.        ]]\n"
          ]
        }
      ],
      "source": [
        "print('-----------Updated Q Table-----------')\n",
        "print(Q_table)"
      ]
    },
    {
      "cell_type": "code",
      "execution_count": 16,
      "metadata": {
        "id": "Mc5GDqNuaPV8"
      },
      "outputs": [],
      "source": [
        "import time\n",
        "from IPython.display import clear_output"
      ]
    },
    {
      "cell_type": "code",
      "source": [
        "#For recording video\n",
        "%pip install gymnasium[classic_control] comet_ml\n",
        "import comet_ml\n",
        "comet_ml.init(project_name=\"cliff_walking_q_learning\")\n",
        "env = gym.wrappers.RecordVideo(env, 'gameplay video') #fdiox3CS3j2WHY7yzjJclVgbt"
      ],
      "metadata": {
        "colab": {
          "base_uri": "https://localhost:8080/"
        },
        "id": "rOqj7JcsuhlH",
        "outputId": "3dd0422b-7251-4927-cb08-cc97c16ad1df"
      },
      "execution_count": 23,
      "outputs": [
        {
          "output_type": "stream",
          "name": "stdout",
          "text": [
            "Requirement already satisfied: comet_ml in /usr/local/lib/python3.10/dist-packages (3.47.0)\n",
            "Requirement already satisfied: gymnasium[classic_control] in /usr/local/lib/python3.10/dist-packages (0.29.1)\n",
            "Requirement already satisfied: numpy>=1.21.0 in /usr/local/lib/python3.10/dist-packages (from gymnasium[classic_control]) (1.26.4)\n",
            "Requirement already satisfied: cloudpickle>=1.2.0 in /usr/local/lib/python3.10/dist-packages (from gymnasium[classic_control]) (2.2.1)\n",
            "Requirement already satisfied: typing-extensions>=4.3.0 in /usr/local/lib/python3.10/dist-packages (from gymnasium[classic_control]) (4.12.2)\n",
            "Requirement already satisfied: farama-notifications>=0.0.1 in /usr/local/lib/python3.10/dist-packages (from gymnasium[classic_control]) (0.0.4)\n",
            "Requirement already satisfied: pygame>=2.1.3 in /usr/local/lib/python3.10/dist-packages (from gymnasium[classic_control]) (2.6.0)\n",
            "Requirement already satisfied: everett<3.2.0,>=1.0.1 in /usr/local/lib/python3.10/dist-packages (from everett[ini]<3.2.0,>=1.0.1->comet_ml) (3.1.0)\n",
            "Requirement already satisfied: jsonschema!=3.1.0,>=2.6.0 in /usr/local/lib/python3.10/dist-packages (from comet_ml) (4.23.0)\n",
            "Requirement already satisfied: psutil>=5.6.3 in /usr/local/lib/python3.10/dist-packages (from comet_ml) (5.9.5)\n",
            "Requirement already satisfied: python-box<7.0.0 in /usr/local/lib/python3.10/dist-packages (from comet_ml) (6.1.0)\n",
            "Requirement already satisfied: requests-toolbelt>=0.8.0 in /usr/local/lib/python3.10/dist-packages (from comet_ml) (1.0.0)\n",
            "Requirement already satisfied: requests>=2.18.4 in /usr/local/lib/python3.10/dist-packages (from comet_ml) (2.32.3)\n",
            "Requirement already satisfied: semantic-version>=2.8.0 in /usr/local/lib/python3.10/dist-packages (from comet_ml) (2.10.0)\n",
            "Requirement already satisfied: sentry-sdk>=1.1.0 in /usr/local/lib/python3.10/dist-packages (from comet_ml) (2.14.0)\n",
            "Requirement already satisfied: simplejson in /usr/local/lib/python3.10/dist-packages (from comet_ml) (3.19.3)\n",
            "Requirement already satisfied: urllib3>=1.21.1 in /usr/local/lib/python3.10/dist-packages (from comet_ml) (2.2.3)\n",
            "Requirement already satisfied: wrapt>=1.11.2 in /usr/local/lib/python3.10/dist-packages (from comet_ml) (1.16.0)\n",
            "Requirement already satisfied: wurlitzer>=1.0.2 in /usr/local/lib/python3.10/dist-packages (from comet_ml) (3.1.1)\n",
            "Requirement already satisfied: dulwich!=0.20.33,>=0.20.6 in /usr/local/lib/python3.10/dist-packages (from comet_ml) (0.22.1)\n",
            "Requirement already satisfied: rich>=13.3.2 in /usr/local/lib/python3.10/dist-packages (from comet_ml) (13.8.1)\n",
            "Requirement already satisfied: configobj in /usr/local/lib/python3.10/dist-packages (from everett[ini]<3.2.0,>=1.0.1->comet_ml) (5.0.9)\n",
            "Requirement already satisfied: attrs>=22.2.0 in /usr/local/lib/python3.10/dist-packages (from jsonschema!=3.1.0,>=2.6.0->comet_ml) (24.2.0)\n",
            "Requirement already satisfied: jsonschema-specifications>=2023.03.6 in /usr/local/lib/python3.10/dist-packages (from jsonschema!=3.1.0,>=2.6.0->comet_ml) (2023.12.1)\n",
            "Requirement already satisfied: referencing>=0.28.4 in /usr/local/lib/python3.10/dist-packages (from jsonschema!=3.1.0,>=2.6.0->comet_ml) (0.35.1)\n",
            "Requirement already satisfied: rpds-py>=0.7.1 in /usr/local/lib/python3.10/dist-packages (from jsonschema!=3.1.0,>=2.6.0->comet_ml) (0.20.0)\n",
            "Requirement already satisfied: charset-normalizer<4,>=2 in /usr/local/lib/python3.10/dist-packages (from requests>=2.18.4->comet_ml) (3.3.2)\n",
            "Requirement already satisfied: idna<4,>=2.5 in /usr/local/lib/python3.10/dist-packages (from requests>=2.18.4->comet_ml) (3.10)\n",
            "Requirement already satisfied: certifi>=2017.4.17 in /usr/local/lib/python3.10/dist-packages (from requests>=2.18.4->comet_ml) (2024.8.30)\n",
            "Requirement already satisfied: markdown-it-py>=2.2.0 in /usr/local/lib/python3.10/dist-packages (from rich>=13.3.2->comet_ml) (3.0.0)\n",
            "Requirement already satisfied: pygments<3.0.0,>=2.13.0 in /usr/local/lib/python3.10/dist-packages (from rich>=13.3.2->comet_ml) (2.18.0)\n",
            "Requirement already satisfied: mdurl~=0.1 in /usr/local/lib/python3.10/dist-packages (from markdown-it-py>=2.2.0->rich>=13.3.2->comet_ml) (0.1.2)\n"
          ]
        },
        {
          "output_type": "stream",
          "name": "stderr",
          "text": [
            "\u001b[1;38;5;214mCOMET WARNING:\u001b[0m comet_ml.init() is deprecated and will be removed soon. Please use comet_ml.login()\n",
            "/usr/local/lib/python3.10/dist-packages/gymnasium/wrappers/record_video.py:94: UserWarning: \u001b[33mWARN: Overwriting existing videos at /content/gameplay video folder (try specifying a different `video_folder` for the `RecordVideo` wrapper if this is not desired)\u001b[0m\n",
            "  logger.warn(\n"
          ]
        }
      ]
    },
    {
      "cell_type": "code",
      "source": [
        "#Visualising the game\n",
        "for episode in range(3):\n",
        "  state=env.reset()[0]\n",
        "  done=False\n",
        "  print('----------EPISODE:',episode+1,'---------\\n\\n\\n\\n')\n",
        "  time.sleep(1)\n",
        "\n",
        "  for step in range(steps_allowed):\n",
        "    clear_output(wait=True)\n",
        "    print(env.render())\n",
        "    time.sleep(0.3)\n",
        "\n",
        "    action = np.argmax(Q_table[state,:])\n",
        "    new_state, reward, done, truncated, info = env.step(action)\n",
        "\n",
        "    if done:\n",
        "      clear_output(wait=True)\n",
        "      print(env.render())\n",
        "      if reward == -100:\n",
        "          print(\"****You fell off the cliff****\")\n",
        "          time.sleep(3)\n",
        "      else:\n",
        "          print(\"****You reached the goal****\")\n",
        "          time.sleep(3)\n",
        "      clear_output(wait=True)\n",
        "      break\n",
        "\n",
        "    state=new_state\n",
        "\n",
        "env.close()"
      ],
      "metadata": {
        "colab": {
          "base_uri": "https://localhost:8080/"
        },
        "id": "pZn4s_cTKELf",
        "outputId": "c8285e9a-5ed8-4445-e894-5dfa472a8584"
      },
      "execution_count": null,
      "outputs": [
        {
          "output_type": "stream",
          "name": "stdout",
          "text": [
            "[[[ 91 150  97]\n",
            "  [ 91 150  97]\n",
            "  [ 91 150  97]\n",
            "  ...\n",
            "  [ 86 170  69]\n",
            "  [ 86 170  69]\n",
            "  [ 86 170  69]]\n",
            "\n",
            " [[ 91 150  97]\n",
            "  [ 91 150  97]\n",
            "  [ 91 150  97]\n",
            "  ...\n",
            "  [ 86 170  69]\n",
            "  [ 86 170  69]\n",
            "  [ 86 170  69]]\n",
            "\n",
            " [[ 91 150  97]\n",
            "  [ 91 150  97]\n",
            "  [ 98 166 105]\n",
            "  ...\n",
            "  [105 182  74]\n",
            "  [105 182  74]\n",
            "  [ 86 170  69]]\n",
            "\n",
            " ...\n",
            "\n",
            " [[ 86 170  69]\n",
            "  [ 86 170  69]\n",
            "  [ 93 188  74]\n",
            "  ...\n",
            "  [ 91 150  97]\n",
            "  [ 91 150  97]\n",
            "  [ 91 150  97]]\n",
            "\n",
            " [[ 86 170  69]\n",
            "  [ 86 170  69]\n",
            "  [ 93 188  74]\n",
            "  ...\n",
            "  [ 91 150  97]\n",
            "  [ 91 150  97]\n",
            "  [ 91 150  97]]\n",
            "\n",
            " [[ 86 170  69]\n",
            "  [ 86 170  69]\n",
            "  [ 86 170  69]\n",
            "  ...\n",
            "  [ 91 150  97]\n",
            "  [ 91 150  97]\n",
            "  [ 91 150  97]]]\n"
          ]
        }
      ]
    }
  ],
  "metadata": {
    "colab": {
      "provenance": []
    },
    "kernelspec": {
      "display_name": "Python 3",
      "name": "python3"
    },
    "language_info": {
      "name": "python"
    }
  },
  "nbformat": 4,
  "nbformat_minor": 0
}